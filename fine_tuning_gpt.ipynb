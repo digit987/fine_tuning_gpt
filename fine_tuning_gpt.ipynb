{
 "cells": [
  {
   "cell_type": "code",
   "execution_count": 1,
   "id": "22377a08",
   "metadata": {},
   "outputs": [],
   "source": [
    "import json\n",
    "import openai"
   ]
  },
  {
   "cell_type": "code",
   "execution_count": 2,
   "id": "62dad56f",
   "metadata": {},
   "outputs": [],
   "source": [
    "training_data = []\n",
    "validation_data = []\n",
    "\n",
    "with open('emoji.json', 'r', encoding='utf-8') as emojis: \n",
    "    emojis = json.load(emojis)\n",
    "\n",
    "training_size = int(len(emojis) * (2/3))\n",
    "\n",
    "for emoji in range(len(emojis)):\n",
    "    conversation = {}\n",
    "    conversation[\"prompt\"] = \"Show the emoji with \\\"\" + emojis[emoji][\"description\"] + \"\\\" under category \\\"\" + emojis[emoji][\"category\"] + \"\\\"\"\n",
    "    conversation[\"completion\"] = emojis[emoji][\"emoji\"]\n",
    "    if emoji <= training_size:\n",
    "        training_data.append(conversation)\n",
    "    else:\n",
    "        validation_data.append(conversation)"
   ]
  },
  {
   "cell_type": "code",
   "execution_count": 3,
   "id": "8c2e849d",
   "metadata": {
    "scrolled": true
   },
   "outputs": [
    {
     "name": "stdout",
     "output_type": "stream",
     "text": [
      "623 1247\n",
      "[{'prompt': 'Show the emoji with \"grinning face\" under category \"Smileys & Emotion\"', 'completion': '😀'}, {'prompt': 'Show the emoji with \"grinning face with big eyes\" under category \"Smileys & Emotion\"', 'completion': '😃'}, {'prompt': 'Show the emoji with \"grinning face with smiling eyes\" under category \"Smileys & Emotion\"', 'completion': '😄'}]\n"
     ]
    }
   ],
   "source": [
    "print(len(validation_data), len(training_data))\n",
    "print(training_data[0:3])"
   ]
  },
  {
   "cell_type": "code",
   "execution_count": 4,
   "id": "8768c18d",
   "metadata": {},
   "outputs": [],
   "source": [
    "training_file_name = \"training_data.jsonl\"\n",
    "validation_file_name = \"validation_data.jsonl\""
   ]
  },
  {
   "cell_type": "code",
   "execution_count": 5,
   "id": "c4c4071e",
   "metadata": {},
   "outputs": [],
   "source": [
    "def prepare_data(dictionary_data, file_name):\n",
    "    with open(file_name, 'w', encoding='utf-8') as outfile:\n",
    "        for entry in dictionary_data:\n",
    "            json.dump(entry, outfile)\n",
    "            outfile.write('\\n')"
   ]
  },
  {
   "cell_type": "code",
   "execution_count": 6,
   "id": "f1f37c0d",
   "metadata": {},
   "outputs": [],
   "source": [
    "prepare_data(training_data, training_file_name)\n",
    "prepare_data(validation_data, validation_file_name)"
   ]
  },
  {
   "cell_type": "code",
   "execution_count": null,
   "id": "e62034af",
   "metadata": {},
   "outputs": [],
   "source": [
    "openai.api_key = \"\""
   ]
  },
  {
   "cell_type": "code",
   "execution_count": 14,
   "id": "bac8b957",
   "metadata": {},
   "outputs": [
    {
     "data": {
      "text/plain": [
       "<File file id=file-3OeP1zB7qNnQdV68lLtBIZGK at 0x2081e52eb10> JSON: {\n",
       "  \"object\": \"file\",\n",
       "  \"id\": \"file-3OeP1zB7qNnQdV68lLtBIZGK\",\n",
       "  \"purpose\": \"fine-tune\",\n",
       "  \"filename\": \"file\",\n",
       "  \"bytes\": 149151,\n",
       "  \"created_at\": 1703149155,\n",
       "  \"status\": \"uploaded\",\n",
       "  \"status_details\": null\n",
       "}"
      ]
     },
     "execution_count": 14,
     "metadata": {},
     "output_type": "execute_result"
    }
   ],
   "source": [
    "openai.File.create(\n",
    "  file=open(training_file_name, \"rb\"),\n",
    "  purpose=\"fine-tune\"\n",
    ")"
   ]
  },
  {
   "cell_type": "code",
   "execution_count": 15,
   "id": "19a2dfac",
   "metadata": {},
   "outputs": [
    {
     "data": {
      "text/plain": [
       "<File file id=file-fQIRoNzPUOE518Fu9jzlVKlx at 0x2081c79e990> JSON: {\n",
       "  \"object\": \"file\",\n",
       "  \"id\": \"file-fQIRoNzPUOE518Fu9jzlVKlx\",\n",
       "  \"purpose\": \"fine-tune\",\n",
       "  \"filename\": \"file\",\n",
       "  \"bytes\": 72271,\n",
       "  \"created_at\": 1703149176,\n",
       "  \"status\": \"uploaded\",\n",
       "  \"status_details\": null\n",
       "}"
      ]
     },
     "execution_count": 15,
     "metadata": {},
     "output_type": "execute_result"
    }
   ],
   "source": [
    "openai.File.create(\n",
    "  file=open(validation_file_name, \"rb\"),\n",
    "  purpose=\"fine-tune\"\n",
    ")"
   ]
  },
  {
   "cell_type": "code",
   "execution_count": 17,
   "id": "26b2da88",
   "metadata": {},
   "outputs": [
    {
     "name": "stdout",
     "output_type": "stream",
     "text": [
      "Fine-tunning model with jobID: ft-hnIGWQR0qSeEsNqxMDCZyCTt.\n",
      "Training Response: {\n",
      "  \"object\": \"fine-tune\",\n",
      "  \"id\": \"ft-hnIGWQR0qSeEsNqxMDCZyCTt\",\n",
      "  \"hyperparams\": {\n",
      "    \"n_epochs\": 15,\n",
      "    \"batch_size\": 3,\n",
      "    \"prompt_loss_weight\": 0.01,\n",
      "    \"learning_rate_multiplier\": 0.3\n",
      "  },\n",
      "  \"organization_id\": \"org-zztDjpGTnNuPt4Dwps364a8H\",\n",
      "  \"model\": \"davinci\",\n",
      "  \"training_files\": [\n",
      "    {\n",
      "      \"object\": \"file\",\n",
      "      \"id\": \"file-3OeP1zB7qNnQdV68lLtBIZGK\",\n",
      "      \"purpose\": \"fine-tune\",\n",
      "      \"filename\": \"file\",\n",
      "      \"bytes\": 149151,\n",
      "      \"created_at\": 1703149155,\n",
      "      \"status\": \"processed\",\n",
      "      \"status_details\": null\n",
      "    }\n",
      "  ],\n",
      "  \"validation_files\": [\n",
      "    {\n",
      "      \"object\": \"file\",\n",
      "      \"id\": \"file-fQIRoNzPUOE518Fu9jzlVKlx\",\n",
      "      \"purpose\": \"fine-tune\",\n",
      "      \"filename\": \"file\",\n",
      "      \"bytes\": 72271,\n",
      "      \"created_at\": 1703149176,\n",
      "      \"status\": \"processed\",\n",
      "      \"status_details\": null\n",
      "    }\n",
      "  ],\n",
      "  \"result_files\": [],\n",
      "  \"created_at\": 1703149460,\n",
      "  \"updated_at\": 1703149460,\n",
      "  \"status\": \"pending\",\n",
      "  \"fine_tuned_model\": null,\n",
      "  \"events\": [\n",
      "    {\n",
      "      \"object\": \"fine-tune-event\",\n",
      "      \"level\": \"info\",\n",
      "      \"message\": \"Created fine-tune: ft-hnIGWQR0qSeEsNqxMDCZyCTt\",\n",
      "      \"created_at\": 1703149460\n",
      "    }\n",
      "  ]\n",
      "}\n",
      "Training Status: pending\n"
     ]
    }
   ],
   "source": [
    "create_args = {\n",
    "\t\"training_file\": \"file-3OeP1zB7qNnQdV68lLtBIZGK\",\n",
    "\t\"validation_file\": \"file-fQIRoNzPUOE518Fu9jzlVKlx\",\n",
    "\t\"model\": \"davinci\",\n",
    "\t\"n_epochs\": 15,\n",
    "\t\"batch_size\": 3,\n",
    "\t\"learning_rate_multiplier\": 0.3\n",
    "}\n",
    "\n",
    "response = openai.FineTune.create(**create_args)\n",
    "job_id = response[\"id\"]\n",
    "status = response[\"status\"]\n",
    "\n",
    "print(f'Fine-tunning model with jobID: {job_id}.')\n",
    "print(f\"Training Response: {response}\")\n",
    "print(f\"Training Status: {status}\")"
   ]
  }
 ],
 "metadata": {
  "kernelspec": {
   "display_name": "Python 3 (ipykernel)",
   "language": "python",
   "name": "python3"
  },
  "language_info": {
   "codemirror_mode": {
    "name": "ipython",
    "version": 3
   },
   "file_extension": ".py",
   "mimetype": "text/x-python",
   "name": "python",
   "nbconvert_exporter": "python",
   "pygments_lexer": "ipython3",
   "version": "3.11.4"
  }
 },
 "nbformat": 4,
 "nbformat_minor": 5
}
